{
 "cells": [
  {
   "cell_type": "code",
   "execution_count": 70,
   "id": "1e372126",
   "metadata": {},
   "outputs": [],
   "source": [
    "import numpy as np\n",
    "import pandas as pd\n",
    "import matplotlib.pyplot as plt\n",
    "import seaborn as sns\n",
    "import math"
   ]
  },
  {
   "cell_type": "markdown",
   "id": "a535a7a6",
   "metadata": {},
   "source": [
    "# Insert Dataset"
   ]
  },
  {
   "cell_type": "code",
   "execution_count": 71,
   "id": "281fc6c0",
   "metadata": {},
   "outputs": [],
   "source": [
    "amazon = pd.read_csv('amazon.csv')"
   ]
  },
  {
   "cell_type": "code",
   "execution_count": 72,
   "id": "51e280bf",
   "metadata": {},
   "outputs": [
    {
     "data": {
      "text/html": [
       "<div>\n",
       "<style scoped>\n",
       "    .dataframe tbody tr th:only-of-type {\n",
       "        vertical-align: middle;\n",
       "    }\n",
       "\n",
       "    .dataframe tbody tr th {\n",
       "        vertical-align: top;\n",
       "    }\n",
       "\n",
       "    .dataframe thead th {\n",
       "        text-align: right;\n",
       "    }\n",
       "</style>\n",
       "<table border=\"1\" class=\"dataframe\">\n",
       "  <thead>\n",
       "    <tr style=\"text-align: right;\">\n",
       "      <th></th>\n",
       "      <th>year</th>\n",
       "      <th>state</th>\n",
       "      <th>month</th>\n",
       "      <th>number</th>\n",
       "      <th>date</th>\n",
       "    </tr>\n",
       "  </thead>\n",
       "  <tbody>\n",
       "    <tr>\n",
       "      <th>0</th>\n",
       "      <td>1998</td>\n",
       "      <td>Acre</td>\n",
       "      <td>Janeiro</td>\n",
       "      <td>0.0</td>\n",
       "      <td>1998-01-01</td>\n",
       "    </tr>\n",
       "    <tr>\n",
       "      <th>1</th>\n",
       "      <td>1999</td>\n",
       "      <td>Acre</td>\n",
       "      <td>Janeiro</td>\n",
       "      <td>0.0</td>\n",
       "      <td>1999-01-01</td>\n",
       "    </tr>\n",
       "    <tr>\n",
       "      <th>2</th>\n",
       "      <td>2000</td>\n",
       "      <td>Acre</td>\n",
       "      <td>Janeiro</td>\n",
       "      <td>0.0</td>\n",
       "      <td>2000-01-01</td>\n",
       "    </tr>\n",
       "    <tr>\n",
       "      <th>3</th>\n",
       "      <td>2001</td>\n",
       "      <td>Acre</td>\n",
       "      <td>Janeiro</td>\n",
       "      <td>0.0</td>\n",
       "      <td>2001-01-01</td>\n",
       "    </tr>\n",
       "    <tr>\n",
       "      <th>4</th>\n",
       "      <td>2002</td>\n",
       "      <td>Acre</td>\n",
       "      <td>Janeiro</td>\n",
       "      <td>0.0</td>\n",
       "      <td>2002-01-01</td>\n",
       "    </tr>\n",
       "    <tr>\n",
       "      <th>5</th>\n",
       "      <td>2003</td>\n",
       "      <td>Acre</td>\n",
       "      <td>Janeiro</td>\n",
       "      <td>10.0</td>\n",
       "      <td>2003-01-01</td>\n",
       "    </tr>\n",
       "    <tr>\n",
       "      <th>6</th>\n",
       "      <td>2004</td>\n",
       "      <td>Acre</td>\n",
       "      <td>Janeiro</td>\n",
       "      <td>0.0</td>\n",
       "      <td>2004-01-01</td>\n",
       "    </tr>\n",
       "    <tr>\n",
       "      <th>7</th>\n",
       "      <td>2005</td>\n",
       "      <td>Acre</td>\n",
       "      <td>Janeiro</td>\n",
       "      <td>12.0</td>\n",
       "      <td>2005-01-01</td>\n",
       "    </tr>\n",
       "    <tr>\n",
       "      <th>8</th>\n",
       "      <td>2006</td>\n",
       "      <td>Acre</td>\n",
       "      <td>Janeiro</td>\n",
       "      <td>4.0</td>\n",
       "      <td>2006-01-01</td>\n",
       "    </tr>\n",
       "    <tr>\n",
       "      <th>9</th>\n",
       "      <td>2007</td>\n",
       "      <td>Acre</td>\n",
       "      <td>Janeiro</td>\n",
       "      <td>0.0</td>\n",
       "      <td>2007-01-01</td>\n",
       "    </tr>\n",
       "  </tbody>\n",
       "</table>\n",
       "</div>"
      ],
      "text/plain": [
       "   year state    month  number        date\n",
       "0  1998  Acre  Janeiro     0.0  1998-01-01\n",
       "1  1999  Acre  Janeiro     0.0  1999-01-01\n",
       "2  2000  Acre  Janeiro     0.0  2000-01-01\n",
       "3  2001  Acre  Janeiro     0.0  2001-01-01\n",
       "4  2002  Acre  Janeiro     0.0  2002-01-01\n",
       "5  2003  Acre  Janeiro    10.0  2003-01-01\n",
       "6  2004  Acre  Janeiro     0.0  2004-01-01\n",
       "7  2005  Acre  Janeiro    12.0  2005-01-01\n",
       "8  2006  Acre  Janeiro     4.0  2006-01-01\n",
       "9  2007  Acre  Janeiro     0.0  2007-01-01"
      ]
     },
     "execution_count": 72,
     "metadata": {},
     "output_type": "execute_result"
    }
   ],
   "source": [
    "amazon.head(10)"
   ]
  },
  {
   "cell_type": "markdown",
   "id": "106cc50d",
   "metadata": {},
   "source": [
    "# Change Portuguese month to English month"
   ]
  },
  {
   "cell_type": "code",
   "execution_count": 73,
   "id": "ae2c44b6",
   "metadata": {},
   "outputs": [],
   "source": [
    "def new_month(old, new_m):\n",
    "    amazon.month.replace(old, new_m,inplace=True)\n",
    "\n",
    "new_month('Janeiro', 'January')\n",
    "new_month('Fevereiro', 'February')\n",
    "new_month('Março', 'March')\n",
    "new_month('Abril', 'April')\n",
    "new_month('Maio', 'May')\n",
    "new_month('Junho', 'June')\n",
    "new_month('Julho', 'July')\n",
    "new_month('Agosto', 'August')\n",
    "new_month('Setembro', 'September')\n",
    "new_month('Outubro', 'October')\n",
    "new_month('Novembro', 'November')\n",
    "new_month('Dezembro', 'December')"
   ]
  },
  {
   "cell_type": "code",
   "execution_count": 74,
   "id": "e812dfb1",
   "metadata": {},
   "outputs": [
    {
     "data": {
      "text/html": [
       "<div>\n",
       "<style scoped>\n",
       "    .dataframe tbody tr th:only-of-type {\n",
       "        vertical-align: middle;\n",
       "    }\n",
       "\n",
       "    .dataframe tbody tr th {\n",
       "        vertical-align: top;\n",
       "    }\n",
       "\n",
       "    .dataframe thead th {\n",
       "        text-align: right;\n",
       "    }\n",
       "</style>\n",
       "<table border=\"1\" class=\"dataframe\">\n",
       "  <thead>\n",
       "    <tr style=\"text-align: right;\">\n",
       "      <th></th>\n",
       "      <th>year</th>\n",
       "      <th>state</th>\n",
       "      <th>month</th>\n",
       "      <th>number</th>\n",
       "      <th>date</th>\n",
       "    </tr>\n",
       "  </thead>\n",
       "  <tbody>\n",
       "    <tr>\n",
       "      <th>0</th>\n",
       "      <td>1998</td>\n",
       "      <td>Acre</td>\n",
       "      <td>January</td>\n",
       "      <td>0.0</td>\n",
       "      <td>1998-01-01</td>\n",
       "    </tr>\n",
       "    <tr>\n",
       "      <th>1</th>\n",
       "      <td>1999</td>\n",
       "      <td>Acre</td>\n",
       "      <td>January</td>\n",
       "      <td>0.0</td>\n",
       "      <td>1999-01-01</td>\n",
       "    </tr>\n",
       "    <tr>\n",
       "      <th>2</th>\n",
       "      <td>2000</td>\n",
       "      <td>Acre</td>\n",
       "      <td>January</td>\n",
       "      <td>0.0</td>\n",
       "      <td>2000-01-01</td>\n",
       "    </tr>\n",
       "    <tr>\n",
       "      <th>3</th>\n",
       "      <td>2001</td>\n",
       "      <td>Acre</td>\n",
       "      <td>January</td>\n",
       "      <td>0.0</td>\n",
       "      <td>2001-01-01</td>\n",
       "    </tr>\n",
       "    <tr>\n",
       "      <th>4</th>\n",
       "      <td>2002</td>\n",
       "      <td>Acre</td>\n",
       "      <td>January</td>\n",
       "      <td>0.0</td>\n",
       "      <td>2002-01-01</td>\n",
       "    </tr>\n",
       "    <tr>\n",
       "      <th>5</th>\n",
       "      <td>2003</td>\n",
       "      <td>Acre</td>\n",
       "      <td>January</td>\n",
       "      <td>10.0</td>\n",
       "      <td>2003-01-01</td>\n",
       "    </tr>\n",
       "    <tr>\n",
       "      <th>6</th>\n",
       "      <td>2004</td>\n",
       "      <td>Acre</td>\n",
       "      <td>January</td>\n",
       "      <td>0.0</td>\n",
       "      <td>2004-01-01</td>\n",
       "    </tr>\n",
       "    <tr>\n",
       "      <th>7</th>\n",
       "      <td>2005</td>\n",
       "      <td>Acre</td>\n",
       "      <td>January</td>\n",
       "      <td>12.0</td>\n",
       "      <td>2005-01-01</td>\n",
       "    </tr>\n",
       "    <tr>\n",
       "      <th>8</th>\n",
       "      <td>2006</td>\n",
       "      <td>Acre</td>\n",
       "      <td>January</td>\n",
       "      <td>4.0</td>\n",
       "      <td>2006-01-01</td>\n",
       "    </tr>\n",
       "    <tr>\n",
       "      <th>9</th>\n",
       "      <td>2007</td>\n",
       "      <td>Acre</td>\n",
       "      <td>January</td>\n",
       "      <td>0.0</td>\n",
       "      <td>2007-01-01</td>\n",
       "    </tr>\n",
       "  </tbody>\n",
       "</table>\n",
       "</div>"
      ],
      "text/plain": [
       "   year state    month  number        date\n",
       "0  1998  Acre  January     0.0  1998-01-01\n",
       "1  1999  Acre  January     0.0  1999-01-01\n",
       "2  2000  Acre  January     0.0  2000-01-01\n",
       "3  2001  Acre  January     0.0  2001-01-01\n",
       "4  2002  Acre  January     0.0  2002-01-01\n",
       "5  2003  Acre  January    10.0  2003-01-01\n",
       "6  2004  Acre  January     0.0  2004-01-01\n",
       "7  2005  Acre  January    12.0  2005-01-01\n",
       "8  2006  Acre  January     4.0  2006-01-01\n",
       "9  2007  Acre  January     0.0  2007-01-01"
      ]
     },
     "execution_count": 74,
     "metadata": {},
     "output_type": "execute_result"
    }
   ],
   "source": [
    "amazon.head(10)"
   ]
  },
  {
   "cell_type": "code",
   "execution_count": 63,
   "id": "f217a229",
   "metadata": {},
   "outputs": [
    {
     "name": "stdout",
     "output_type": "stream",
     "text": [
      "<class 'pandas.core.frame.DataFrame'>\n",
      "RangeIndex: 6454 entries, 0 to 6453\n",
      "Data columns (total 5 columns):\n",
      " #   Column  Non-Null Count  Dtype  \n",
      "---  ------  --------------  -----  \n",
      " 0   year    6454 non-null   int64  \n",
      " 1   state   6454 non-null   object \n",
      " 2   month   6454 non-null   object \n",
      " 3   number  6454 non-null   float64\n",
      " 4   date    6454 non-null   object \n",
      "dtypes: float64(1), int64(1), object(3)\n",
      "memory usage: 252.2+ KB\n"
     ]
    }
   ],
   "source": [
    "amazon.info()"
   ]
  },
  {
   "cell_type": "code",
   "execution_count": 75,
   "id": "2e332214",
   "metadata": {},
   "outputs": [
    {
     "data": {
      "text/html": [
       "<div>\n",
       "<style scoped>\n",
       "    .dataframe tbody tr th:only-of-type {\n",
       "        vertical-align: middle;\n",
       "    }\n",
       "\n",
       "    .dataframe tbody tr th {\n",
       "        vertical-align: top;\n",
       "    }\n",
       "\n",
       "    .dataframe thead th {\n",
       "        text-align: right;\n",
       "    }\n",
       "</style>\n",
       "<table border=\"1\" class=\"dataframe\">\n",
       "  <thead>\n",
       "    <tr style=\"text-align: right;\">\n",
       "      <th></th>\n",
       "      <th>year</th>\n",
       "      <th>number</th>\n",
       "    </tr>\n",
       "  </thead>\n",
       "  <tbody>\n",
       "    <tr>\n",
       "      <th>count</th>\n",
       "      <td>6454.000000</td>\n",
       "      <td>6454.000000</td>\n",
       "    </tr>\n",
       "    <tr>\n",
       "      <th>mean</th>\n",
       "      <td>2007.461729</td>\n",
       "      <td>108.293163</td>\n",
       "    </tr>\n",
       "    <tr>\n",
       "      <th>std</th>\n",
       "      <td>5.746654</td>\n",
       "      <td>190.812242</td>\n",
       "    </tr>\n",
       "    <tr>\n",
       "      <th>min</th>\n",
       "      <td>1998.000000</td>\n",
       "      <td>0.000000</td>\n",
       "    </tr>\n",
       "    <tr>\n",
       "      <th>25%</th>\n",
       "      <td>2002.000000</td>\n",
       "      <td>3.000000</td>\n",
       "    </tr>\n",
       "    <tr>\n",
       "      <th>50%</th>\n",
       "      <td>2007.000000</td>\n",
       "      <td>24.000000</td>\n",
       "    </tr>\n",
       "    <tr>\n",
       "      <th>75%</th>\n",
       "      <td>2012.000000</td>\n",
       "      <td>113.000000</td>\n",
       "    </tr>\n",
       "    <tr>\n",
       "      <th>max</th>\n",
       "      <td>2017.000000</td>\n",
       "      <td>998.000000</td>\n",
       "    </tr>\n",
       "  </tbody>\n",
       "</table>\n",
       "</div>"
      ],
      "text/plain": [
       "              year       number\n",
       "count  6454.000000  6454.000000\n",
       "mean   2007.461729   108.293163\n",
       "std       5.746654   190.812242\n",
       "min    1998.000000     0.000000\n",
       "25%    2002.000000     3.000000\n",
       "50%    2007.000000    24.000000\n",
       "75%    2012.000000   113.000000\n",
       "max    2017.000000   998.000000"
      ]
     },
     "execution_count": 75,
     "metadata": {},
     "output_type": "execute_result"
    }
   ],
   "source": [
    "amazon.describe()"
   ]
  },
  {
   "cell_type": "code",
   "execution_count": 76,
   "id": "36b97d26",
   "metadata": {},
   "outputs": [],
   "source": [
    "amazon['number'] = amazon['number'].apply(np.round)"
   ]
  },
  {
   "cell_type": "code",
   "execution_count": 77,
   "id": "1adc75de",
   "metadata": {},
   "outputs": [
    {
     "data": {
      "text/plain": [
       "1998"
      ]
     },
     "execution_count": 77,
     "metadata": {},
     "output_type": "execute_result"
    }
   ],
   "source": [
    "amazon['year'].min()"
   ]
  },
  {
   "cell_type": "code",
   "execution_count": 78,
   "id": "27d586ac",
   "metadata": {},
   "outputs": [
    {
     "data": {
      "text/plain": [
       "2017"
      ]
     },
     "execution_count": 78,
     "metadata": {},
     "output_type": "execute_result"
    }
   ],
   "source": [
    "amazon['year'].max()"
   ]
  },
  {
   "cell_type": "markdown",
   "id": "4dbcbf24",
   "metadata": {},
   "source": [
    "# Find total fire in Acre State"
   ]
  },
  {
   "cell_type": "code",
   "execution_count": 79,
   "id": "6ba9e45c",
   "metadata": {},
   "outputs": [
    {
     "name": "stdout",
     "output_type": "stream",
     "text": [
      "Number of fires in Acre state are 18463.0\n"
     ]
    }
   ],
   "source": [
    "acre_fires = sum(amazon[amazon['state'] == 'Acre']['number'])\n",
    "print(\"Number of fires in Acre state are {}\".format(acre_fires))"
   ]
  },
  {
   "cell_type": "code",
   "execution_count": 80,
   "id": "2f222b26",
   "metadata": {},
   "outputs": [],
   "source": [
    "acre_fires_year = amazon[amazon['state'] == 'Acre'].groupby('year').sum()"
   ]
  },
  {
   "cell_type": "code",
   "execution_count": 81,
   "id": "be82517c",
   "metadata": {},
   "outputs": [
    {
     "data": {
      "text/html": [
       "<div>\n",
       "<style scoped>\n",
       "    .dataframe tbody tr th:only-of-type {\n",
       "        vertical-align: middle;\n",
       "    }\n",
       "\n",
       "    .dataframe tbody tr th {\n",
       "        vertical-align: top;\n",
       "    }\n",
       "\n",
       "    .dataframe thead th {\n",
       "        text-align: right;\n",
       "    }\n",
       "</style>\n",
       "<table border=\"1\" class=\"dataframe\">\n",
       "  <thead>\n",
       "    <tr style=\"text-align: right;\">\n",
       "      <th></th>\n",
       "      <th>number</th>\n",
       "    </tr>\n",
       "    <tr>\n",
       "      <th>year</th>\n",
       "      <th></th>\n",
       "    </tr>\n",
       "  </thead>\n",
       "  <tbody>\n",
       "    <tr>\n",
       "      <th>1998</th>\n",
       "      <td>730.0</td>\n",
       "    </tr>\n",
       "    <tr>\n",
       "      <th>1999</th>\n",
       "      <td>333.0</td>\n",
       "    </tr>\n",
       "    <tr>\n",
       "      <th>2000</th>\n",
       "      <td>434.0</td>\n",
       "    </tr>\n",
       "    <tr>\n",
       "      <th>2001</th>\n",
       "      <td>828.0</td>\n",
       "    </tr>\n",
       "    <tr>\n",
       "      <th>2002</th>\n",
       "      <td>1544.0</td>\n",
       "    </tr>\n",
       "  </tbody>\n",
       "</table>\n",
       "</div>"
      ],
      "text/plain": [
       "      number\n",
       "year        \n",
       "1998   730.0\n",
       "1999   333.0\n",
       "2000   434.0\n",
       "2001   828.0\n",
       "2002  1544.0"
      ]
     },
     "execution_count": 81,
     "metadata": {},
     "output_type": "execute_result"
    }
   ],
   "source": [
    "acre_fires_year.head(5)"
   ]
  },
  {
   "cell_type": "code",
   "execution_count": 82,
   "id": "434d17f0",
   "metadata": {},
   "outputs": [
    {
     "data": {
      "text/html": [
       "<div>\n",
       "<style scoped>\n",
       "    .dataframe tbody tr th:only-of-type {\n",
       "        vertical-align: middle;\n",
       "    }\n",
       "\n",
       "    .dataframe tbody tr th {\n",
       "        vertical-align: top;\n",
       "    }\n",
       "\n",
       "    .dataframe thead th {\n",
       "        text-align: right;\n",
       "    }\n",
       "</style>\n",
       "<table border=\"1\" class=\"dataframe\">\n",
       "  <thead>\n",
       "    <tr style=\"text-align: right;\">\n",
       "      <th></th>\n",
       "      <th>year</th>\n",
       "      <th>number</th>\n",
       "    </tr>\n",
       "  </thead>\n",
       "  <tbody>\n",
       "    <tr>\n",
       "      <th>0</th>\n",
       "      <td>1998</td>\n",
       "      <td>730.0</td>\n",
       "    </tr>\n",
       "    <tr>\n",
       "      <th>1</th>\n",
       "      <td>1999</td>\n",
       "      <td>333.0</td>\n",
       "    </tr>\n",
       "    <tr>\n",
       "      <th>2</th>\n",
       "      <td>2000</td>\n",
       "      <td>434.0</td>\n",
       "    </tr>\n",
       "    <tr>\n",
       "      <th>3</th>\n",
       "      <td>2001</td>\n",
       "      <td>828.0</td>\n",
       "    </tr>\n",
       "    <tr>\n",
       "      <th>4</th>\n",
       "      <td>2002</td>\n",
       "      <td>1544.0</td>\n",
       "    </tr>\n",
       "  </tbody>\n",
       "</table>\n",
       "</div>"
      ],
      "text/plain": [
       "   year  number\n",
       "0  1998   730.0\n",
       "1  1999   333.0\n",
       "2  2000   434.0\n",
       "3  2001   828.0\n",
       "4  2002  1544.0"
      ]
     },
     "execution_count": 82,
     "metadata": {},
     "output_type": "execute_result"
    }
   ],
   "source": [
    "acre_fires_year.reset_index(inplace=True)\n",
    "acre_fires_year.head()"
   ]
  },
  {
   "cell_type": "markdown",
   "id": "40bd7c61",
   "metadata": {},
   "source": [
    "# Per year fire graph of acre state"
   ]
  },
  {
   "cell_type": "code",
   "execution_count": 93,
   "id": "2cee50be",
   "metadata": {},
   "outputs": [
    {
     "data": {
      "text/plain": [
       "<AxesSubplot:xlabel='year', ylabel='number'>"
      ]
     },
     "execution_count": 93,
     "metadata": {},
     "output_type": "execute_result"
    },
    {
     "data": {
      "image/png": "[encoded data removed]",
      "text/plain": [
       "<Figure size 864x360 with 1 Axes>"
      ]
     },
     "metadata": {
      "needs_background": "light"
     },
     "output_type": "display_data"
    }
   ],
   "source": [
    "fig = plt.figure(figsize=(12,5))\n",
    "sns.barplot(x='year',y='number',data=acre_fires_year)"
   ]
  },
  {
   "cell_type": "markdown",
   "id": "9fb8dc2a",
   "metadata": {},
   "source": [
    "# Total Fire in all state "
   ]
  },
  {
   "cell_type": "code",
   "execution_count": 84,
   "id": "ee73ad7b",
   "metadata": {},
   "outputs": [],
   "source": [
    "amazon_total_fires = amazon.groupby('state')['number'].sum().to_frame().reset_index().sort_values(by=['number'],ascending=False)"
   ]
  },
  {
   "cell_type": "code",
   "execution_count": 85,
   "id": "a36b5897",
   "metadata": {},
   "outputs": [
    {
     "data": {
      "text/html": [
       "<div>\n",
       "<style scoped>\n",
       "    .dataframe tbody tr th:only-of-type {\n",
       "        vertical-align: middle;\n",
       "    }\n",
       "\n",
       "    .dataframe tbody tr th {\n",
       "        vertical-align: top;\n",
       "    }\n",
       "\n",
       "    .dataframe thead th {\n",
       "        text-align: right;\n",
       "    }\n",
       "</style>\n",
       "<table border=\"1\" class=\"dataframe\">\n",
       "  <thead>\n",
       "    <tr style=\"text-align: right;\">\n",
       "      <th></th>\n",
       "      <th>state</th>\n",
       "      <th>number</th>\n",
       "    </tr>\n",
       "  </thead>\n",
       "  <tbody>\n",
       "    <tr>\n",
       "      <th>10</th>\n",
       "      <td>Mato Grosso</td>\n",
       "      <td>96238.0</td>\n",
       "    </tr>\n",
       "    <tr>\n",
       "      <th>12</th>\n",
       "      <td>Paraiba</td>\n",
       "      <td>52435.0</td>\n",
       "    </tr>\n",
       "    <tr>\n",
       "      <th>20</th>\n",
       "      <td>Sao Paulo</td>\n",
       "      <td>51121.0</td>\n",
       "    </tr>\n",
       "    <tr>\n",
       "      <th>16</th>\n",
       "      <td>Rio</td>\n",
       "      <td>45160.0</td>\n",
       "    </tr>\n",
       "    <tr>\n",
       "      <th>4</th>\n",
       "      <td>Bahia</td>\n",
       "      <td>44745.0</td>\n",
       "    </tr>\n",
       "  </tbody>\n",
       "</table>\n",
       "</div>"
      ],
      "text/plain": [
       "          state   number\n",
       "10  Mato Grosso  96238.0\n",
       "12      Paraiba  52435.0\n",
       "20    Sao Paulo  51121.0\n",
       "16          Rio  45160.0\n",
       "4         Bahia  44745.0"
      ]
     },
     "execution_count": 85,
     "metadata": {},
     "output_type": "execute_result"
    }
   ],
   "source": [
    "amazon_total_fires.head()"
   ]
  },
  {
   "cell_type": "markdown",
   "id": "f180e455",
   "metadata": {},
   "source": [
    "# Barplot to analyze \n"
   ]
  },
  {
   "cell_type": "code",
   "execution_count": 86,
   "id": "1db4e89c",
   "metadata": {},
   "outputs": [
    {
     "data": {
      "text/plain": [
       "<AxesSubplot:xlabel='state', ylabel='number'>"
      ]
     },
     "execution_count": 86,
     "metadata": {},
     "output_type": "execute_result"
    },
    {
     "data": {
      "image/png": "[encoded data removed]",
      "text/plain": [
       "<Figure size 1728x720 with 1 Axes>"
      ]
     },
     "metadata": {
      "needs_background": "light"
     },
     "output_type": "display_data"
    }
   ],
   "source": [
    "fig = plt.figure(figsize=(24,10))\n",
    "sns.barplot(x='state',y='number',data=amazon_total_fires)"
   ]
  },
  {
   "cell_type": "markdown",
   "id": "8cda142f",
   "metadata": {},
   "source": [
    "# Bargrapgh to analyze fire according to month"
   ]
  },
  {
   "cell_type": "code",
   "execution_count": 87,
   "id": "de27d70b",
   "metadata": {},
   "outputs": [
    {
     "data": {
      "text/plain": [
       "<AxesSubplot:xlabel='month', ylabel='number'>"
      ]
     },
     "execution_count": 87,
     "metadata": {},
     "output_type": "execute_result"
    },
    {
     "data": {
      "image/png": "[encoded data removed]",
      "text/plain": [
       "<Figure size 864x360 with 1 Axes>"
      ]
     },
     "metadata": {
      "needs_background": "light"
     },
     "output_type": "display_data"
    }
   ],
   "source": [
    "total_fires_2017 = amazon[amazon['year'] == 2017][['number','month']].groupby('month').sum().reset_index()\n",
    "\n",
    "fig = plt.figure(figsize=(12,5))\n",
    "sns.barplot(x='month',y='number',data=total_fires_2017)"
   ]
  },
  {
   "cell_type": "code",
   "execution_count": null,
   "id": "c8b0816b",
   "metadata": {},
   "outputs": [],
   "source": [
    "# Conclusion drwan from the above plot:\n",
    "\n",
    "# 1. February, March, April and May see the lowest number of forest fires\n",
    "# 2. A sudden spike in June continuing till November\n",
    "# 3. July, August, October and November are the 4 months where maximum forest fires happen"
   ]
  },
  {
   "cell_type": "markdown",
   "id": "ce8636e9",
   "metadata": {},
   "source": [
    "# Average fire "
   ]
  },
  {
   "cell_type": "code",
   "execution_count": 25,
   "id": "43cdbd06",
   "metadata": {},
   "outputs": [],
   "source": [
    "avg_fires = amazon['number'].mean()"
   ]
  },
  {
   "cell_type": "code",
   "execution_count": 26,
   "id": "94fd02a7",
   "metadata": {},
   "outputs": [
    {
     "data": {
      "text/plain": [
       "108.28819336845368"
      ]
     },
     "execution_count": 26,
     "metadata": {},
     "output_type": "execute_result"
    }
   ],
   "source": [
    "avg_fires"
   ]
  },
  {
   "cell_type": "markdown",
   "id": "22c7343b",
   "metadata": {},
   "source": [
    "# Find most affected state by fire"
   ]
  },
  {
   "cell_type": "code",
   "execution_count": 88,
   "id": "719c9301",
   "metadata": {},
   "outputs": [],
   "source": [
    "by_state = amazon.groupby(['state'], as_index=False).sum()"
   ]
  },
  {
   "cell_type": "code",
   "execution_count": 89,
   "id": "abe006c5",
   "metadata": {},
   "outputs": [
    {
     "data": {
      "image/png": "[encoded data removed]",
      "text/plain": [
       "<Figure size 2160x360 with 1 Axes>"
      ]
     },
     "metadata": {
      "needs_background": "light"
     },
     "output_type": "display_data"
    }
   ],
   "source": [
    "sns.catplot(x='state', y='number', data=amazon[['state','number']], kind='bar', aspect=6, estimator=sum);"
   ]
  },
  {
   "cell_type": "markdown",
   "id": "8dfef694",
   "metadata": {},
   "source": [
    "# Top 3 Worst states hit"
   ]
  },
  {
   "cell_type": "code",
   "execution_count": 90,
   "id": "39e7e0bd",
   "metadata": {},
   "outputs": [
    {
     "name": "stdout",
     "output_type": "stream",
     "text": [
      "Worst states hit: \n",
      "Mato Grosso\n",
      "Paraiba\n",
      "Sao Paulo\n"
     ]
    }
   ],
   "source": [
    "worst_hit = by_state[by_state['number']> by_state['number'].mean() +by_state['number'].std()]\n",
    "print('Worst states hit: ')\n",
    "for i in range(len(worst_hit)):\n",
    "    print(worst_hit['state'].values[i])"
   ]
  },
  {
   "cell_type": "markdown",
   "id": "2bfa24d3",
   "metadata": {},
   "source": [
    "# Analyze on Mato Grosso"
   ]
  },
  {
   "cell_type": "code",
   "execution_count": 30,
   "id": "79d90b6e",
   "metadata": {},
   "outputs": [],
   "source": [
    "Mato_Data = amazon.loc[amazon['state']=='Mato Grosso']"
   ]
  },
  {
   "cell_type": "code",
   "execution_count": 31,
   "id": "51e645b2",
   "metadata": {},
   "outputs": [
    {
     "data": {
      "text/html": [
       "<div>\n",
       "<style scoped>\n",
       "    .dataframe tbody tr th:only-of-type {\n",
       "        vertical-align: middle;\n",
       "    }\n",
       "\n",
       "    .dataframe tbody tr th {\n",
       "        vertical-align: top;\n",
       "    }\n",
       "\n",
       "    .dataframe thead th {\n",
       "        text-align: right;\n",
       "    }\n",
       "</style>\n",
       "<table border=\"1\" class=\"dataframe\">\n",
       "  <thead>\n",
       "    <tr style=\"text-align: right;\">\n",
       "      <th></th>\n",
       "      <th>number</th>\n",
       "      <th>year</th>\n",
       "    </tr>\n",
       "  </thead>\n",
       "  <tbody>\n",
       "    <tr>\n",
       "      <th>0</th>\n",
       "      <td>2401.0</td>\n",
       "      <td>1998</td>\n",
       "    </tr>\n",
       "    <tr>\n",
       "      <th>1</th>\n",
       "      <td>2979.0</td>\n",
       "      <td>1999</td>\n",
       "    </tr>\n",
       "    <tr>\n",
       "      <th>2</th>\n",
       "      <td>3896.0</td>\n",
       "      <td>2000</td>\n",
       "    </tr>\n",
       "    <tr>\n",
       "      <th>3</th>\n",
       "      <td>3088.0</td>\n",
       "      <td>2001</td>\n",
       "    </tr>\n",
       "    <tr>\n",
       "      <th>4</th>\n",
       "      <td>3665.0</td>\n",
       "      <td>2002</td>\n",
       "    </tr>\n",
       "  </tbody>\n",
       "</table>\n",
       "</div>"
      ],
      "text/plain": [
       "   number  year\n",
       "0  2401.0  1998\n",
       "1  2979.0  1999\n",
       "2  3896.0  2000\n",
       "3  3088.0  2001\n",
       "4  3665.0  2002"
      ]
     },
     "execution_count": 31,
     "metadata": {},
     "output_type": "execute_result"
    }
   ],
   "source": [
    "Mato_Data_year = Mato_Data.groupby('year').sum()\n",
    "\n",
    "Mato_Data_year['year'] = Mato_Data_year.index\n",
    "\n",
    "Mato_Data_year.index = range(Mato_Data_year.shape[0])\n",
    "\n",
    "Mato_Data_year = Mato_Data_year.sort_values('year')\n",
    "\n",
    "Mato_Data_year.head(5)"
   ]
  },
  {
   "cell_type": "markdown",
   "id": "2b796586",
   "metadata": {},
   "source": [
    "# which month is most likely to have a forest fire in Mato state"
   ]
  },
  {
   "cell_type": "code",
   "execution_count": 94,
   "id": "9d645536",
   "metadata": {},
   "outputs": [
    {
     "data": {
      "text/html": [
       "<div>\n",
       "<style scoped>\n",
       "    .dataframe tbody tr th:only-of-type {\n",
       "        vertical-align: middle;\n",
       "    }\n",
       "\n",
       "    .dataframe tbody tr th {\n",
       "        vertical-align: top;\n",
       "    }\n",
       "\n",
       "    .dataframe thead th {\n",
       "        text-align: right;\n",
       "    }\n",
       "</style>\n",
       "<table border=\"1\" class=\"dataframe\">\n",
       "  <thead>\n",
       "    <tr style=\"text-align: right;\">\n",
       "      <th></th>\n",
       "      <th>year</th>\n",
       "      <th>number</th>\n",
       "      <th>month</th>\n",
       "    </tr>\n",
       "  </thead>\n",
       "  <tbody>\n",
       "    <tr>\n",
       "      <th>0</th>\n",
       "      <td>80300</td>\n",
       "      <td>10480.0</td>\n",
       "      <td>January</td>\n",
       "    </tr>\n",
       "    <tr>\n",
       "      <th>1</th>\n",
       "      <td>80300</td>\n",
       "      <td>10166.0</td>\n",
       "      <td>November</td>\n",
       "    </tr>\n",
       "    <tr>\n",
       "      <th>2</th>\n",
       "      <td>80300</td>\n",
       "      <td>10158.0</td>\n",
       "      <td>May</td>\n",
       "    </tr>\n",
       "    <tr>\n",
       "      <th>3</th>\n",
       "      <td>80300</td>\n",
       "      <td>9953.0</td>\n",
       "      <td>April</td>\n",
       "    </tr>\n",
       "    <tr>\n",
       "      <th>4</th>\n",
       "      <td>80300</td>\n",
       "      <td>9922.0</td>\n",
       "      <td>October</td>\n",
       "    </tr>\n",
       "  </tbody>\n",
       "</table>\n",
       "</div>"
      ],
      "text/plain": [
       "    year   number     month\n",
       "0  80300  10480.0   January\n",
       "1  80300  10166.0  November\n",
       "2  80300  10158.0       May\n",
       "3  80300   9953.0     April\n",
       "4  80300   9922.0   October"
      ]
     },
     "execution_count": 94,
     "metadata": {},
     "output_type": "execute_result"
    }
   ],
   "source": [
    "Mato_Data_month = Mato_Data.groupby('month').sum().sort_values(by=['number'],ascending=False)\n",
    "\n",
    "Mato_Data_month['month'] = Mato_Data_month.index\n",
    "\n",
    "Mato_Data_month.index = range(Mato_Data_month.shape[0])\n",
    "\n",
    "Mato_Data_month.head(5)"
   ]
  },
  {
   "cell_type": "code",
   "execution_count": 33,
   "id": "46161fdf",
   "metadata": {},
   "outputs": [
    {
     "data": {
      "image/png": "[encoded data removed]",
      "text/plain": [
       "<Figure size 720x720 with 1 Axes>"
      ]
     },
     "metadata": {},
     "output_type": "display_data"
    }
   ],
   "source": [
    "figure = plt.figure(figsize=(10,10))\n",
    "plt.title('Mato Grosso Forest Fires in each Month')\n",
    "plt.pie(Mato_Data_month['number'], labels=Mato_Data_month['month'])\n",
    "plt.show()"
   ]
  },
  {
   "cell_type": "code",
   "execution_count": null,
   "id": "cd750459",
   "metadata": {},
   "outputs": [],
   "source": [
    "# Conclusion drawn from the above plot:\n",
    "\n",
    "# 1. Mato Grosso see a huge number of forest fires compare to others."
   ]
  },
  {
   "cell_type": "markdown",
   "id": "833d62b2",
   "metadata": {},
   "source": [
    "# Lineplot for all States"
   ]
  },
  {
   "cell_type": "code",
   "execution_count": 42,
   "id": "d3eb0020",
   "metadata": {},
   "outputs": [
    {
     "data": {
      "image/png": "[encoded data removed]",
      "text/plain": [
       "<Figure size 1080x504 with 1 Axes>"
      ]
     },
     "metadata": {
      "needs_background": "light"
     },
     "output_type": "display_data"
    }
   ],
   "source": [
    "by_year = amazon.groupby(['year'], as_index=False).sum()\n",
    "\n",
    "plt.figure(figsize=[15,7])\n",
    "plt.xlim([1998, 2017])\n",
    "plt.title('Sum of number of fires from 1998-2017')\n",
    "sns.lineplot(x='year', y='number',data=by_year);"
   ]
  },
  {
   "cell_type": "code",
   "execution_count": null,
   "id": "b75e7ae2",
   "metadata": {},
   "outputs": [],
   "source": [
    "# Fires increased dramatically in the last 20 years, from 20,000 in 1998 to almost double in 2017. \n",
    "# What's also alarming is that there is also an increasing trend in the data, \n",
    "# so we can expect even more wildfires in the years to follow.\n",
    "\n",
    "# 2003 and 2016 had the most wildfires throughout Brazil."
   ]
  },
  {
   "cell_type": "markdown",
   "id": "2b52f94f",
   "metadata": {},
   "source": [
    "# Polynomial equation:- using poly1d and polyfit to fit data in polynomial function"
   ]
  },
  {
   "cell_type": "code",
   "execution_count": 60,
   "id": "01d6f4a4",
   "metadata": {},
   "outputs": [
    {
     "data": {
      "image/png": "[encoded data removed]",
      "text/plain": [
       "<Figure size 864x504 with 1 Axes>"
      ]
     },
     "metadata": {
      "needs_background": "light"
     },
     "output_type": "display_data"
    }
   ],
   "source": [
    "by_year = by_year[by_year['year']>2004]\n",
    "z = np.poly1d(np.polyfit(by_year['year'],by_year['number'],2))\n",
    "\n",
    "years = np.linspace(2004, 2017, 13)\n",
    "\n",
    "plt.figure(figsize=(12,7))\n",
    "plt.plot(years, by_year['number'], '-', label='Raw data')\n",
    "plt.plot(years,z(years), '--', label='Fitted curve')\n",
    "plt.xlim(2004, 2017)\n",
    "plt.ylim(17000, 45000)\n",
    "plt.title('Fitted curve')\n",
    "plt.legend()\n",
    "plt.show()"
   ]
  },
  {
   "cell_type": "markdown",
   "id": "0746be2b",
   "metadata": {},
   "source": [
    "# Use Equation from above in For loop to predict the fire in upcoming Year"
   ]
  },
  {
   "cell_type": "code",
   "execution_count": 39,
   "id": "034eebe9",
   "metadata": {},
   "outputs": [
    {
     "name": "stdout",
     "output_type": "stream",
     "text": [
      "2018 - 40714\n",
      "2019 - 41224\n",
      "2020 - 41721\n",
      "2021 - 42205\n",
      "2022 - 42676\n",
      "2023 - 43134\n",
      "2024 - 43579\n"
     ]
    }
   ],
   "source": [
    "for i in range (2018,2025):\n",
    "    print(i, '-',math.trunc(z(i)))"
   ]
  },
  {
   "cell_type": "code",
   "execution_count": null,
   "id": "e9b206c0",
   "metadata": {},
   "outputs": [],
   "source": [
    "# Conclution from above is that the prediction states 41721 in 2020 and if we actually check in google with Amazon forest fire in 2020 we get approx 44000, so prdiction is partially correct."
   ]
  }
 ],
 "metadata": {
  "kernelspec": {
   "display_name": "Python 3",
   "language": "python",
   "name": "python3"
  },
  "language_info": {
   "codemirror_mode": {
    "name": "ipython",
    "version": 3
   },
   "file_extension": ".py",
   "mimetype": "text/x-python",
   "name": "python",
   "nbconvert_exporter": "python",
   "pygments_lexer": "ipython3",
   "version": "3.8.8"
  }
 },
 "nbformat": 4,
 "nbformat_minor": 5
}
